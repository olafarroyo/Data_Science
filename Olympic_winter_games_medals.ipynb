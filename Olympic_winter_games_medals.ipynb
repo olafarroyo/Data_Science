{
 "cells": [
  {
   "cell_type": "markdown",
   "metadata": {},
   "source": [
    "# Analysis of Winter Olympics medals\n",
    "\n",
    "### The following script analyses the information obtained from the wepage \"\", concerning medals awarded in every Winter Olympic games."
   ]
  },
  {
   "cell_type": "code",
   "execution_count": 1,
   "metadata": {},
   "outputs": [],
   "source": [
    "import pandas as pd\n",
    "import matplotlib.pyplot as plt\n",
    "import numpy as np\n",
    "#import seaborn as sns\n"
   ]
  },
  {
   "cell_type": "markdown",
   "metadata": {},
   "source": [
    "## Reading the Data\n",
    "### Data consists of the following eight categories: \n",
    "### Year, city, sport, discipline, NOC, Event, event Gender and Medal.\n"
   ]
  },
  {
   "cell_type": "code",
   "execution_count": 2,
   "metadata": {},
   "outputs": [],
   "source": [
    "medals_wo=pd.read_csv(\"/Users/olaf/Documents/Python/Data/medals.csv\")\n",
    "medals_wo = medals_wo.rename(columns = {\"Event gender\" : \"Event_gender\"})"
   ]
  },
  {
   "cell_type": "code",
   "execution_count": 3,
   "metadata": {},
   "outputs": [
    {
     "data": {
      "text/plain": [
       "(2311, 8)"
      ]
     },
     "execution_count": 3,
     "metadata": {},
     "output_type": "execute_result"
    }
   ],
   "source": [
    "medals_wo.shape"
   ]
  },
  {
   "cell_type": "code",
   "execution_count": 4,
   "metadata": {},
   "outputs": [
    {
     "data": {
      "text/html": [
       "<div>\n",
       "<style scoped>\n",
       "    .dataframe tbody tr th:only-of-type {\n",
       "        vertical-align: middle;\n",
       "    }\n",
       "\n",
       "    .dataframe tbody tr th {\n",
       "        vertical-align: top;\n",
       "    }\n",
       "\n",
       "    .dataframe thead th {\n",
       "        text-align: right;\n",
       "    }\n",
       "</style>\n",
       "<table border=\"1\" class=\"dataframe\">\n",
       "  <thead>\n",
       "    <tr style=\"text-align: right;\">\n",
       "      <th></th>\n",
       "      <th>Year</th>\n",
       "      <th>City</th>\n",
       "      <th>Sport</th>\n",
       "      <th>Discipline</th>\n",
       "      <th>NOC</th>\n",
       "      <th>Event</th>\n",
       "      <th>Event_gender</th>\n",
       "      <th>Medal</th>\n",
       "    </tr>\n",
       "  </thead>\n",
       "  <tbody>\n",
       "    <tr>\n",
       "      <th>0</th>\n",
       "      <td>1924</td>\n",
       "      <td>Chamonix</td>\n",
       "      <td>Skating</td>\n",
       "      <td>Figure skating</td>\n",
       "      <td>AUT</td>\n",
       "      <td>individual</td>\n",
       "      <td>M</td>\n",
       "      <td>Silver</td>\n",
       "    </tr>\n",
       "    <tr>\n",
       "      <th>1</th>\n",
       "      <td>1924</td>\n",
       "      <td>Chamonix</td>\n",
       "      <td>Skating</td>\n",
       "      <td>Figure skating</td>\n",
       "      <td>AUT</td>\n",
       "      <td>individual</td>\n",
       "      <td>W</td>\n",
       "      <td>Gold</td>\n",
       "    </tr>\n",
       "    <tr>\n",
       "      <th>2</th>\n",
       "      <td>1924</td>\n",
       "      <td>Chamonix</td>\n",
       "      <td>Skating</td>\n",
       "      <td>Figure skating</td>\n",
       "      <td>AUT</td>\n",
       "      <td>pairs</td>\n",
       "      <td>X</td>\n",
       "      <td>Gold</td>\n",
       "    </tr>\n",
       "    <tr>\n",
       "      <th>3</th>\n",
       "      <td>1924</td>\n",
       "      <td>Chamonix</td>\n",
       "      <td>Bobsleigh</td>\n",
       "      <td>Bobsleigh</td>\n",
       "      <td>BEL</td>\n",
       "      <td>four-man</td>\n",
       "      <td>M</td>\n",
       "      <td>Bronze</td>\n",
       "    </tr>\n",
       "    <tr>\n",
       "      <th>4</th>\n",
       "      <td>1924</td>\n",
       "      <td>Chamonix</td>\n",
       "      <td>Ice Hockey</td>\n",
       "      <td>Ice Hockey</td>\n",
       "      <td>CAN</td>\n",
       "      <td>ice hockey</td>\n",
       "      <td>M</td>\n",
       "      <td>Gold</td>\n",
       "    </tr>\n",
       "  </tbody>\n",
       "</table>\n",
       "</div>"
      ],
      "text/plain": [
       "   Year      City       Sport      Discipline  NOC       Event Event_gender  \\\n",
       "0  1924  Chamonix     Skating  Figure skating  AUT  individual            M   \n",
       "1  1924  Chamonix     Skating  Figure skating  AUT  individual            W   \n",
       "2  1924  Chamonix     Skating  Figure skating  AUT       pairs            X   \n",
       "3  1924  Chamonix   Bobsleigh       Bobsleigh  BEL    four-man            M   \n",
       "4  1924  Chamonix  Ice Hockey      Ice Hockey  CAN  ice hockey            M   \n",
       "\n",
       "    Medal  \n",
       "0  Silver  \n",
       "1    Gold  \n",
       "2    Gold  \n",
       "3  Bronze  \n",
       "4    Gold  "
      ]
     },
     "execution_count": 4,
     "metadata": {},
     "output_type": "execute_result"
    }
   ],
   "source": [
    "medals_wo.head()"
   ]
  },
  {
   "cell_type": "code",
   "execution_count": 5,
   "metadata": {},
   "outputs": [
    {
     "data": {
      "text/html": [
       "<div>\n",
       "<style scoped>\n",
       "    .dataframe tbody tr th:only-of-type {\n",
       "        vertical-align: middle;\n",
       "    }\n",
       "\n",
       "    .dataframe tbody tr th {\n",
       "        vertical-align: top;\n",
       "    }\n",
       "\n",
       "    .dataframe thead th {\n",
       "        text-align: right;\n",
       "    }\n",
       "</style>\n",
       "<table border=\"1\" class=\"dataframe\">\n",
       "  <thead>\n",
       "    <tr style=\"text-align: right;\">\n",
       "      <th></th>\n",
       "      <th>Year</th>\n",
       "      <th>City</th>\n",
       "      <th>Sport</th>\n",
       "      <th>Discipline</th>\n",
       "      <th>NOC</th>\n",
       "      <th>Event</th>\n",
       "      <th>Event_gender</th>\n",
       "      <th>Medal</th>\n",
       "    </tr>\n",
       "  </thead>\n",
       "  <tbody>\n",
       "    <tr>\n",
       "      <th>2306</th>\n",
       "      <td>2006</td>\n",
       "      <td>Turin</td>\n",
       "      <td>Skiing</td>\n",
       "      <td>Snowboard</td>\n",
       "      <td>USA</td>\n",
       "      <td>Half-pipe</td>\n",
       "      <td>M</td>\n",
       "      <td>Silver</td>\n",
       "    </tr>\n",
       "    <tr>\n",
       "      <th>2307</th>\n",
       "      <td>2006</td>\n",
       "      <td>Turin</td>\n",
       "      <td>Skiing</td>\n",
       "      <td>Snowboard</td>\n",
       "      <td>USA</td>\n",
       "      <td>Half-pipe</td>\n",
       "      <td>W</td>\n",
       "      <td>Gold</td>\n",
       "    </tr>\n",
       "    <tr>\n",
       "      <th>2308</th>\n",
       "      <td>2006</td>\n",
       "      <td>Turin</td>\n",
       "      <td>Skiing</td>\n",
       "      <td>Snowboard</td>\n",
       "      <td>USA</td>\n",
       "      <td>Half-pipe</td>\n",
       "      <td>W</td>\n",
       "      <td>Silver</td>\n",
       "    </tr>\n",
       "    <tr>\n",
       "      <th>2309</th>\n",
       "      <td>2006</td>\n",
       "      <td>Turin</td>\n",
       "      <td>Skiing</td>\n",
       "      <td>Snowboard</td>\n",
       "      <td>USA</td>\n",
       "      <td>Snowboard Cross</td>\n",
       "      <td>M</td>\n",
       "      <td>Gold</td>\n",
       "    </tr>\n",
       "    <tr>\n",
       "      <th>2310</th>\n",
       "      <td>2006</td>\n",
       "      <td>Turin</td>\n",
       "      <td>Skiing</td>\n",
       "      <td>Snowboard</td>\n",
       "      <td>USA</td>\n",
       "      <td>Snowboard Cross</td>\n",
       "      <td>W</td>\n",
       "      <td>Silver</td>\n",
       "    </tr>\n",
       "  </tbody>\n",
       "</table>\n",
       "</div>"
      ],
      "text/plain": [
       "      Year   City   Sport Discipline  NOC            Event Event_gender  \\\n",
       "2306  2006  Turin  Skiing  Snowboard  USA        Half-pipe            M   \n",
       "2307  2006  Turin  Skiing  Snowboard  USA        Half-pipe            W   \n",
       "2308  2006  Turin  Skiing  Snowboard  USA        Half-pipe            W   \n",
       "2309  2006  Turin  Skiing  Snowboard  USA  Snowboard Cross            M   \n",
       "2310  2006  Turin  Skiing  Snowboard  USA  Snowboard Cross            W   \n",
       "\n",
       "       Medal  \n",
       "2306  Silver  \n",
       "2307    Gold  \n",
       "2308  Silver  \n",
       "2309    Gold  \n",
       "2310  Silver  "
      ]
     },
     "execution_count": 5,
     "metadata": {},
     "output_type": "execute_result"
    }
   ],
   "source": [
    "medals_wo.tail()"
   ]
  },
  {
   "cell_type": "code",
   "execution_count": 6,
   "metadata": {},
   "outputs": [],
   "source": [
    "### The database consists of 2311 different medals, from 1924 until 2016.\n",
    "### In total, there are 67 different events considered in the data base."
   ]
  },
  {
   "cell_type": "code",
   "execution_count": 7,
   "metadata": {},
   "outputs": [
    {
     "data": {
      "text/plain": [
       "67"
      ]
     },
     "execution_count": 7,
     "metadata": {},
     "output_type": "execute_result"
    }
   ],
   "source": [
    "sports = medals_wo.Event.unique()\n",
    "number_of_sports=len(sports)\n",
    "number_of_sports"
   ]
  },
  {
   "cell_type": "code",
   "execution_count": 8,
   "metadata": {},
   "outputs": [
    {
     "data": {
      "text/plain": [
       "array(['individual', 'pairs', 'four-man', 'ice hockey', 'military patrol',\n",
       "       '10000m', '1500m', '5000m', '500m', 'combined (4 events)', '18km',\n",
       "       'curling', '50km', 'K90 individual (70m)', 'five-man', 'two-man',\n",
       "       '4x10km relay', 'alpine combined', 'downhill', 'slalom',\n",
       "       'giant slalom', '10km', '30km mass start', '3x5km relay', '15km',\n",
       "       '1000m', '20km', '3000m', 'doubles', 'singles', '5km',\n",
       "       'K120 individual (90m)', '4x7.5km relay', '4x5km relay',\n",
       "       'ice dancing', 'super-G', 'Team', 'K120 team (90m)', '3000m relay',\n",
       "       '5000m relay', '3x7.5km relay', '7.5km', '15km mass start', '30km',\n",
       "       'Combined 5km + 10km pursuit', 'moguls', '10km pursuit',\n",
       "       'Combined 10km + 15km pursuit', 'aerials', 'giant-slalom',\n",
       "       'Half-pipe', 'sprint', '5km pursuit', '12.5km pursuit',\n",
       "       'Giant parallel slalom', 'Sprint 1.5km', 'sprint 1.5km',\n",
       "       'Alpine combined', 'Individual', 'Individual sprint',\n",
       "       'Team pursuit', 'Team sprint', 'Snowboard Cross',\n",
       "       'Combined 7.5 + 7.5km mass start', '4x6km relay',\n",
       "       '12.5km mass start', 'Combined 15 + 15km mass start'], dtype=object)"
      ]
     },
     "execution_count": 8,
     "metadata": {},
     "output_type": "execute_result"
    }
   ],
   "source": [
    "sports"
   ]
  },
  {
   "cell_type": "markdown",
   "metadata": {},
   "source": [
    "## Gender information\n",
    "### The data base considers three different gender types: Male, Female and Couples. Couples is a broad term,\n",
    "### because couples can be of mixed gender, female-only or male-only."
   ]
  },
  {
   "cell_type": "code",
   "execution_count": 9,
   "metadata": {},
   "outputs": [
    {
     "data": {
      "text/plain": [
       "array(['M', 'W', 'X'], dtype=object)"
      ]
     },
     "execution_count": 9,
     "metadata": {},
     "output_type": "execute_result"
    }
   ],
   "source": [
    "gender_categories = medals_wo.Event_gender.unique()\n",
    "gender_categories\n"
   ]
  },
  {
   "cell_type": "markdown",
   "metadata": {},
   "source": [
    "## Medals by men"
   ]
  },
  {
   "cell_type": "code",
   "execution_count": 10,
   "metadata": {},
   "outputs": [
    {
     "data": {
      "text/plain": [
       "Text(0, 0.5, 'Number of medals for Men')"
      ]
     },
     "execution_count": 10,
     "metadata": {},
     "output_type": "execute_result"
    },
    {
     "data": {
      "image/png": "[encoded data removed]",
      "text/plain": [
       "<Figure size 432x288 with 1 Axes>"
      ]
     },
     "metadata": {
      "needs_background": "light"
     },
     "output_type": "display_data"
    }
   ],
   "source": [
    "mm_total=medals_wo[(medals_wo[\"Event_gender\"]== \"M\")]\n",
    "\n",
    "mm_gold=medals_wo[(medals_wo[\"Event_gender\"]== \"M\") & (medals_wo[\"Medal\"]== \"Gold\")]\n",
    "mm_silver=medals_wo[(medals_wo[\"Event_gender\"]== \"M\") & (medals_wo[\"Medal\"]== \"Silver\")]\n",
    "mm_bronze=medals_wo[(medals_wo[\"Event_gender\"]== \"M\") & (medals_wo[\"Medal\"]== \"Bronze\")]\n",
    "\n",
    "medals_men=[mm_total.shape[0], mm_gold.shape[0],mm_silver.shape[0], mm_bronze.shape[0]]\n",
    "\n",
    "plt.bar([\"Total\",\"Gold\",\"Silver\",\"Bronze\"],medals_men)\n",
    "plt.ylabel(\"Number of medals for Men\")"
   ]
  },
  {
   "cell_type": "code",
   "execution_count": 11,
   "metadata": {},
   "outputs": [
    {
     "data": {
      "text/plain": [
       "[1386, 464, 462, 460]"
      ]
     },
     "execution_count": 11,
     "metadata": {},
     "output_type": "execute_result"
    }
   ],
   "source": [
    "medals_men"
   ]
  },
  {
   "cell_type": "markdown",
   "metadata": {},
   "source": [
    "## Medals by women"
   ]
  },
  {
   "cell_type": "code",
   "execution_count": 12,
   "metadata": {},
   "outputs": [
    {
     "data": {
      "text/plain": [
       "Text(0, 0.5, 'Number of medals for Women')"
      ]
     },
     "execution_count": 12,
     "metadata": {},
     "output_type": "execute_result"
    },
    {
     "data": {
      "image/png": "[encoded data removed]",
      "text/plain": [
       "<Figure size 432x288 with 1 Axes>"
      ]
     },
     "metadata": {
      "needs_background": "light"
     },
     "output_type": "display_data"
    }
   ],
   "source": [
    "mw_total = medals_wo[(medals_wo[\"Event_gender\"]== \"W\")]\n",
    "mw_gold = medals_wo[(medals_wo[\"Event_gender\"]== \"W\") & (medals_wo[\"Medal\"]== \"Gold\")]\n",
    "mw_silver = medals_wo[(medals_wo[\"Event_gender\"]== \"W\") & (medals_wo[\"Medal\"]== \"Silver\")]\n",
    "mw_bronze = medals_wo[(medals_wo[\"Event_gender\"]== \"W\") & (medals_wo[\"Medal\"]== \"Bronze\")]\n",
    "\n",
    "medals_women = [mw_total.shape[0], mw_gold.shape[0],mw_silver.shape[0], mw_bronze.shape[0]]\n",
    "           \n",
    "plt.bar([\"Total\",\"Gold\",\"Silver\",\"Bronze\"],medals_women)\n",
    "plt.ylabel(\"Number of medals for Women\")"
   ]
  },
  {
   "cell_type": "code",
   "execution_count": 13,
   "metadata": {},
   "outputs": [
    {
     "data": {
      "text/plain": [
       "[802, 267, 272, 263]"
      ]
     },
     "execution_count": 13,
     "metadata": {},
     "output_type": "execute_result"
    }
   ],
   "source": [
    "medals_women"
   ]
  },
  {
   "cell_type": "markdown",
   "metadata": {},
   "source": [
    "## Medals by pairs"
   ]
  },
  {
   "cell_type": "code",
   "execution_count": 14,
   "metadata": {},
   "outputs": [
    {
     "data": {
      "text/plain": [
       "Text(0, 0.5, 'Number of medals for Pairs')"
      ]
     },
     "execution_count": 14,
     "metadata": {},
     "output_type": "execute_result"
    },
    {
     "data": {
      "image/png": "[encoded data removed]",
      "text/plain": [
       "<Figure size 432x288 with 1 Axes>"
      ]
     },
     "metadata": {
      "needs_background": "light"
     },
     "output_type": "display_data"
    }
   ],
   "source": [
    "mx_total = medals_wo[(medals_wo[\"Event_gender\"]== \"X\")]\n",
    "mx_gold = medals_wo[(medals_wo[\"Event_gender\"]== \"X\") & (medals_wo[\"Medal\"]== \"Gold\")]\n",
    "mx_silver = medals_wo[(medals_wo[\"Event_gender\"]== \"X\") & (medals_wo[\"Medal\"]== \"Silver\")]\n",
    "mx_bronze = medals_wo[(medals_wo[\"Event_gender\"]== \"X\") & (medals_wo[\"Medal\"]== \"Bronze\")]\n",
    "\n",
    "medals_pairs = [mx_total.shape[0], mx_gold.shape[0],mx_silver.shape[0], mx_bronze.shape[0]]\n",
    "medals_pairs           \n",
    "plt.bar([\"Total\",\"Gold\",\"Silver\",\"Bronze\"],medals_pairs)\n",
    "plt.ylabel(\"Number of medals for Pairs\")"
   ]
  },
  {
   "cell_type": "code",
   "execution_count": 15,
   "metadata": {},
   "outputs": [
    {
     "data": {
      "text/plain": [
       "[123, 43, 39, 41]"
      ]
     },
     "execution_count": 15,
     "metadata": {},
     "output_type": "execute_result"
    }
   ],
   "source": [
    "medals_pairs "
   ]
  },
  {
   "cell_type": "code",
   "execution_count": 16,
   "metadata": {},
   "outputs": [
    {
     "data": {
      "text/plain": [
       "584"
      ]
     },
     "execution_count": 16,
     "metadata": {},
     "output_type": "execute_result"
    }
   ],
   "source": [
    "difference=medals_men[0] - medals_women[0]\n",
    "difference"
   ]
  },
  {
   "cell_type": "markdown",
   "metadata": {},
   "source": [
    "### The results shows a very similar distribution of medals, which is expected since for every event three medals ### are given.\n",
    "\n",
    "### Results shows that on the first Winter Olympic games, women could compete only in 3 different events, while in 2006 the participated in 111.\n",
    "### Men have 584 more medals than women. \n"
   ]
  },
  {
   "cell_type": "code",
   "execution_count": 25,
   "metadata": {},
   "outputs": [
    {
     "data": {
      "image/png": "[encoded data removed]",
      "text/plain": [
       "<Figure size 432x288 with 1 Axes>"
      ]
     },
     "metadata": {
      "needs_background": "light"
     },
     "output_type": "display_data"
    }
   ],
   "source": [
    "years = medals_wo.Year.unique()\n",
    "gender=[\"M\",\"W\",\"X\"]\n",
    "events=[]\n",
    "games_recount={\"Men\":[],\n",
    "               \"Women\":[],\n",
    "                \"Pairs\":[]}\n",
    "\n",
    "counter=0\n",
    "\n",
    "for y in range(len(gender)):\n",
    "    \n",
    "    for x in range(len(years)):\n",
    "    \n",
    "        events_per_game = medals_wo[(medals_wo[\"Event_gender\"]== gender[y]) & (medals_wo[\"Year\"] == years[x])]\n",
    "        events.append(events_per_game.shape[0])\n",
    "        vect=[events[0],events[-1]]\n",
    "        \n",
    "    if counter == 0:\n",
    "        games_recount[\"Men\"] = events\n",
    "    if counter == 1:\n",
    "        games_recount[\"Women\"] = events\n",
    "    if counter == 2:    \n",
    "        games_recount[\"Pairs\"] = events\n",
    "\n",
    "        \n",
    "    plt.plot(years,events) \n",
    "    events = []\n",
    "    counter +=1\n",
    "    \n",
    "plt.ylabel(\"Number of events per Winter Olympic Game\")\n",
    "plt.xlabel(\"Year\")\n",
    "plt.legend([\"male\",\"female\",\"Pairs\"])\n",
    "recount = pd.DataFrame(games_recount)"
   ]
  },
  {
   "cell_type": "markdown",
   "metadata": {},
   "source": [
    "### Exploring the information, it shows that events where women are able to be part of are less that those available for men, altough this gap is becoming smaller."
   ]
  },
  {
   "cell_type": "code",
   "execution_count": 96,
   "metadata": {},
   "outputs": [
    {
     "data": {
      "text/plain": [
       "Text(0, 0.5, \"['Men events / Women events']\")"
      ]
     },
     "execution_count": 96,
     "metadata": {},
     "output_type": "execute_result"
    },
    {
     "data": {
      "image/png": "[encoded data removed]",
      "text/plain": [
       "<Figure size 432x288 with 1 Axes>"
      ]
     },
     "metadata": {
      "needs_background": "light"
     },
     "output_type": "display_data"
    }
   ],
   "source": [
    "comparison = recount[\"Men\"] / recount[\"Women\"]\n",
    "\n",
    "plt.plot(years,comparison)\n",
    "plt.legend(\"Ratio\")\n",
    "plt.xlabel(\"Year\")\n",
    "plt.ylabel(\"Men events / Women events\")"
   ]
  },
  {
   "cell_type": "code",
   "execution_count": 70,
   "metadata": {},
   "outputs": [],
   "source": [
    "countries = pd.unique(medals_wo['NOC'])\n",
    "countries=sorted(countries)"
   ]
  },
  {
   "cell_type": "code",
   "execution_count": 98,
   "metadata": {},
   "outputs": [],
   "source": [
    "country_medals={}\n",
    "country_gold = {}\n",
    "country_silver = {}\n",
    "country_bronze = {}\n",
    "\n",
    "for x in range(len(countries)):\n",
    "    t_medals=[]\n",
    "    t_gold = []\n",
    "    t_silver = []\n",
    "    t_bronze = []\n",
    "    \n",
    "    for y in range(len(years)):\n",
    "        gold_m = medals_wo[(medals_wo[\"NOC\"] == countries[x]) & (medals_wo[\"Year\"] == years[y]) & (medals_wo[\"Medal\"] == \"Gold\")]\n",
    "        silver_m = medals_wo[(medals_wo[\"NOC\"] == countries[x]) & (medals_wo[\"Year\"] == years[y]) & (medals_wo[\"Medal\"] == \"Silver\")]\n",
    "        bronze_m = medals_wo[(medals_wo[\"NOC\"] == countries[x]) & (medals_wo[\"Year\"] == years[y]) & (medals_wo[\"Medal\"] == \"Bronze\")]\n",
    "        \n",
    "        t_medals.append(gold_m.shape[0]+silver_m.shape[0]+bronze_m.shape[0])\n",
    "        t_gold.append(gold_m.shape[0])\n",
    "        t_silver.append(silver_m.shape[0])\n",
    "        t_bronze.append(bronze_m.shape[0])\n",
    "    \n",
    "    country_medals[countries[x]] = t_medals\n",
    "    country_gold[countries[x]] = t_gold\n",
    "    country_silver[countries[x]] = t_silver\n",
    "    country_bronze[countries[x]] = t_bronze\n",
    "    \n",
    "total_medals = pd.DataFrame(country_medals)\n",
    "total_gold = pd.DataFrame(country_gold)\n",
    "total_silver = pd.DataFrame(country_silver)\n",
    "total_bronze = pd.DataFrame(country_bronze)\n"
   ]
  },
  {
   "cell_type": "markdown",
   "metadata": {},
   "source": [
    "## Countries with more medals in total"
   ]
  },
  {
   "cell_type": "code",
   "execution_count": 86,
   "metadata": {},
   "outputs": [
    {
     "data": {
      "text/plain": [
       "<BarContainer object of 45 artists>"
      ]
     },
     "execution_count": 86,
     "metadata": {},
     "output_type": "execute_result"
    },
    {
     "data": {
      "image/png": "[encoded data removed]",
      "text/plain": [
       "<Figure size 432x288 with 1 Axes>"
      ]
     },
     "metadata": {
      "needs_background": "light"
     },
     "output_type": "display_data"
    }
   ],
   "source": [
    "total_cm=[]\n",
    "for x in range(len(countries)):\n",
    "    var = total_medals[countries[x]]\n",
    "    var2 = sum(var)\n",
    "    total_cm.append(var2)\n",
    " \n",
    "total_med={\"Country\": countries,\n",
    "           \"Total\": total_cm}\n",
    "\n",
    "total_med = pd.DataFrame(total_med)\n",
    "total_med = total_med.sort_values(by = \"Total\",ascending = False)\n",
    "\n",
    "plt.bar(total_med[\"Country\"],total_med[\"Total\"])\n"
   ]
  },
  {
   "cell_type": "code",
   "execution_count": null,
   "metadata": {},
   "outputs": [],
   "source": [
    "### Historic top 10 is:"
   ]
  },
  {
   "cell_type": "code",
   "execution_count": 88,
   "metadata": {},
   "outputs": [
    {
     "data": {
      "text/html": [
       "<div>\n",
       "<style scoped>\n",
       "    .dataframe tbody tr th:only-of-type {\n",
       "        vertical-align: middle;\n",
       "    }\n",
       "\n",
       "    .dataframe tbody tr th {\n",
       "        vertical-align: top;\n",
       "    }\n",
       "\n",
       "    .dataframe thead th {\n",
       "        text-align: right;\n",
       "    }\n",
       "</style>\n",
       "<table border=\"1\" class=\"dataframe\">\n",
       "  <thead>\n",
       "    <tr style=\"text-align: right;\">\n",
       "      <th></th>\n",
       "      <th>Country</th>\n",
       "      <th>Total</th>\n",
       "    </tr>\n",
       "  </thead>\n",
       "  <tbody>\n",
       "    <tr>\n",
       "      <th>29</th>\n",
       "      <td>NOR</td>\n",
       "      <td>280</td>\n",
       "    </tr>\n",
       "    <tr>\n",
       "      <th>42</th>\n",
       "      <td>USA</td>\n",
       "      <td>216</td>\n",
       "    </tr>\n",
       "    <tr>\n",
       "      <th>41</th>\n",
       "      <td>URS</td>\n",
       "      <td>194</td>\n",
       "    </tr>\n",
       "    <tr>\n",
       "      <th>1</th>\n",
       "      <td>AUT</td>\n",
       "      <td>185</td>\n",
       "    </tr>\n",
       "    <tr>\n",
       "      <th>19</th>\n",
       "      <td>GER</td>\n",
       "      <td>158</td>\n",
       "    </tr>\n",
       "    <tr>\n",
       "      <th>14</th>\n",
       "      <td>FIN</td>\n",
       "      <td>151</td>\n",
       "    </tr>\n",
       "    <tr>\n",
       "      <th>5</th>\n",
       "      <td>CAN</td>\n",
       "      <td>119</td>\n",
       "    </tr>\n",
       "    <tr>\n",
       "      <th>38</th>\n",
       "      <td>SWE</td>\n",
       "      <td>118</td>\n",
       "    </tr>\n",
       "    <tr>\n",
       "      <th>36</th>\n",
       "      <td>SUI</td>\n",
       "      <td>118</td>\n",
       "    </tr>\n",
       "    <tr>\n",
       "      <th>18</th>\n",
       "      <td>GDR</td>\n",
       "      <td>110</td>\n",
       "    </tr>\n",
       "  </tbody>\n",
       "</table>\n",
       "</div>"
      ],
      "text/plain": [
       "   Country  Total\n",
       "29     NOR    280\n",
       "42     USA    216\n",
       "41     URS    194\n",
       "1      AUT    185\n",
       "19     GER    158\n",
       "14     FIN    151\n",
       "5      CAN    119\n",
       "38     SWE    118\n",
       "36     SUI    118\n",
       "18     GDR    110"
      ]
     },
     "execution_count": 88,
     "metadata": {},
     "output_type": "execute_result"
    }
   ],
   "source": [
    "total_med.head(10)\n"
   ]
  },
  {
   "cell_type": "markdown",
   "metadata": {},
   "source": [
    "## Countries with more god medals"
   ]
  },
  {
   "cell_type": "code",
   "execution_count": 91,
   "metadata": {},
   "outputs": [
    {
     "data": {
      "text/plain": [
       "<BarContainer object of 45 artists>"
      ]
     },
     "execution_count": 91,
     "metadata": {},
     "output_type": "execute_result"
    },
    {
     "data": {
      "image/png": "[encoded data removed]",
      "text/plain": [
       "<Figure size 432x288 with 1 Axes>"
      ]
     },
     "metadata": {
      "needs_background": "light"
     },
     "output_type": "display_data"
    }
   ],
   "source": [
    "total_cm=[]\n",
    "for x in range(len(countries)):\n",
    "    var = total_gold[countries[x]]\n",
    "    var2 = sum(var)\n",
    "    total_cm.append(var2)\n",
    " \n",
    "total_mg={\"Country\": countries,\n",
    "           \"Total\": total_cm}\n",
    "\n",
    "total_mg = pd.DataFrame(total_mg)\n",
    "total_mg = total_mg.sort_values(by = \"Total\",ascending = False)\n",
    "\n",
    "plt.bar(total_mg[\"Country\"],total_mg[\"Total\"])"
   ]
  },
  {
   "cell_type": "markdown",
   "metadata": {},
   "source": [
    "### The top 10 is:"
   ]
  },
  {
   "cell_type": "code",
   "execution_count": 92,
   "metadata": {},
   "outputs": [
    {
     "data": {
      "text/html": [
       "<div>\n",
       "<style scoped>\n",
       "    .dataframe tbody tr th:only-of-type {\n",
       "        vertical-align: middle;\n",
       "    }\n",
       "\n",
       "    .dataframe tbody tr th {\n",
       "        vertical-align: top;\n",
       "    }\n",
       "\n",
       "    .dataframe thead th {\n",
       "        text-align: right;\n",
       "    }\n",
       "</style>\n",
       "<table border=\"1\" class=\"dataframe\">\n",
       "  <thead>\n",
       "    <tr style=\"text-align: right;\">\n",
       "      <th></th>\n",
       "      <th>Country</th>\n",
       "      <th>Total</th>\n",
       "    </tr>\n",
       "  </thead>\n",
       "  <tbody>\n",
       "    <tr>\n",
       "      <th>29</th>\n",
       "      <td>NOR</td>\n",
       "      <td>98</td>\n",
       "    </tr>\n",
       "    <tr>\n",
       "      <th>42</th>\n",
       "      <td>USA</td>\n",
       "      <td>78</td>\n",
       "    </tr>\n",
       "    <tr>\n",
       "      <th>41</th>\n",
       "      <td>URS</td>\n",
       "      <td>78</td>\n",
       "    </tr>\n",
       "    <tr>\n",
       "      <th>19</th>\n",
       "      <td>GER</td>\n",
       "      <td>58</td>\n",
       "    </tr>\n",
       "    <tr>\n",
       "      <th>1</th>\n",
       "      <td>AUT</td>\n",
       "      <td>51</td>\n",
       "    </tr>\n",
       "    <tr>\n",
       "      <th>38</th>\n",
       "      <td>SWE</td>\n",
       "      <td>43</td>\n",
       "    </tr>\n",
       "    <tr>\n",
       "      <th>14</th>\n",
       "      <td>FIN</td>\n",
       "      <td>41</td>\n",
       "    </tr>\n",
       "    <tr>\n",
       "      <th>18</th>\n",
       "      <td>GDR</td>\n",
       "      <td>39</td>\n",
       "    </tr>\n",
       "    <tr>\n",
       "      <th>5</th>\n",
       "      <td>CAN</td>\n",
       "      <td>38</td>\n",
       "    </tr>\n",
       "    <tr>\n",
       "      <th>36</th>\n",
       "      <td>SUI</td>\n",
       "      <td>38</td>\n",
       "    </tr>\n",
       "  </tbody>\n",
       "</table>\n",
       "</div>"
      ],
      "text/plain": [
       "   Country  Total\n",
       "29     NOR     98\n",
       "42     USA     78\n",
       "41     URS     78\n",
       "19     GER     58\n",
       "1      AUT     51\n",
       "38     SWE     43\n",
       "14     FIN     41\n",
       "18     GDR     39\n",
       "5      CAN     38\n",
       "36     SUI     38"
      ]
     },
     "execution_count": 92,
     "metadata": {},
     "output_type": "execute_result"
    }
   ],
   "source": [
    "total_mg.head(10)"
   ]
  },
  {
   "cell_type": "code",
   "execution_count": 99,
   "metadata": {},
   "outputs": [
    {
     "data": {
      "text/plain": [
       "<BarContainer object of 45 artists>"
      ]
     },
     "execution_count": 99,
     "metadata": {},
     "output_type": "execute_result"
    },
    {
     "data": {
      "image/png": "[encoded data removed]",
      "text/plain": [
       "<Figure size 432x288 with 1 Axes>"
      ]
     },
     "metadata": {
      "needs_background": "light"
     },
     "output_type": "display_data"
    }
   ],
   "source": [
    "total_cm=[]\n",
    "for x in range(len(countries)):\n",
    "    var = total_silver[countries[x]]\n",
    "    var2 = sum(var)\n",
    "    total_cm.append(var2)\n",
    " \n",
    "total_ms={\"Country\": countries,\n",
    "           \"Total\": total_cm}\n",
    "\n",
    "total_ms = pd.DataFrame(total_ms)\n",
    "total_ms = total_ms.sort_values(by = \"Total\",ascending = False)\n",
    "\n",
    "plt.bar(total_ms[\"Country\"],total_ms[\"Total\"])"
   ]
  },
  {
   "cell_type": "code",
   "execution_count": 100,
   "metadata": {},
   "outputs": [
    {
     "data": {
      "text/html": [
       "<div>\n",
       "<style scoped>\n",
       "    .dataframe tbody tr th:only-of-type {\n",
       "        vertical-align: middle;\n",
       "    }\n",
       "\n",
       "    .dataframe tbody tr th {\n",
       "        vertical-align: top;\n",
       "    }\n",
       "\n",
       "    .dataframe thead th {\n",
       "        text-align: right;\n",
       "    }\n",
       "</style>\n",
       "<table border=\"1\" class=\"dataframe\">\n",
       "  <thead>\n",
       "    <tr style=\"text-align: right;\">\n",
       "      <th></th>\n",
       "      <th>Country</th>\n",
       "      <th>Total</th>\n",
       "    </tr>\n",
       "  </thead>\n",
       "  <tbody>\n",
       "    <tr>\n",
       "      <th>29</th>\n",
       "      <td>NOR</td>\n",
       "      <td>98</td>\n",
       "    </tr>\n",
       "    <tr>\n",
       "      <th>42</th>\n",
       "      <td>USA</td>\n",
       "      <td>80</td>\n",
       "    </tr>\n",
       "    <tr>\n",
       "      <th>1</th>\n",
       "      <td>AUT</td>\n",
       "      <td>64</td>\n",
       "    </tr>\n",
       "    <tr>\n",
       "      <th>19</th>\n",
       "      <td>GER</td>\n",
       "      <td>59</td>\n",
       "    </tr>\n",
       "    <tr>\n",
       "      <th>14</th>\n",
       "      <td>FIN</td>\n",
       "      <td>58</td>\n",
       "    </tr>\n",
       "    <tr>\n",
       "      <th>41</th>\n",
       "      <td>URS</td>\n",
       "      <td>57</td>\n",
       "    </tr>\n",
       "    <tr>\n",
       "      <th>5</th>\n",
       "      <td>CAN</td>\n",
       "      <td>38</td>\n",
       "    </tr>\n",
       "    <tr>\n",
       "      <th>36</th>\n",
       "      <td>SUI</td>\n",
       "      <td>37</td>\n",
       "    </tr>\n",
       "    <tr>\n",
       "      <th>18</th>\n",
       "      <td>GDR</td>\n",
       "      <td>36</td>\n",
       "    </tr>\n",
       "    <tr>\n",
       "      <th>21</th>\n",
       "      <td>ITA</td>\n",
       "      <td>31</td>\n",
       "    </tr>\n",
       "  </tbody>\n",
       "</table>\n",
       "</div>"
      ],
      "text/plain": [
       "   Country  Total\n",
       "29     NOR     98\n",
       "42     USA     80\n",
       "1      AUT     64\n",
       "19     GER     59\n",
       "14     FIN     58\n",
       "41     URS     57\n",
       "5      CAN     38\n",
       "36     SUI     37\n",
       "18     GDR     36\n",
       "21     ITA     31"
      ]
     },
     "execution_count": 100,
     "metadata": {},
     "output_type": "execute_result"
    }
   ],
   "source": [
    "total_ms.head(10)"
   ]
  },
  {
   "cell_type": "code",
   "execution_count": null,
   "metadata": {},
   "outputs": [],
   "source": []
  },
  {
   "cell_type": "code",
   "execution_count": 103,
   "metadata": {},
   "outputs": [
    {
     "data": {
      "text/plain": [
       "<BarContainer object of 45 artists>"
      ]
     },
     "execution_count": 103,
     "metadata": {},
     "output_type": "execute_result"
    },
    {
     "data": {
      "image/png": "[encoded data removed]",
      "text/plain": [
       "<Figure size 432x288 with 1 Axes>"
      ]
     },
     "metadata": {
      "needs_background": "light"
     },
     "output_type": "display_data"
    }
   ],
   "source": [
    "total_cm=[]\n",
    "for x in range(len(countries)):\n",
    "    var = total_bronze[countries[x]]\n",
    "    var2 = sum(var)\n",
    "    total_cm.append(var2)\n",
    " \n",
    "total_mb={\"Country\": countries,\n",
    "           \"Total\": total_cm}\n",
    "\n",
    "total_mb = pd.DataFrame(total_mb)\n",
    "total_mb = total_mb.sort_values(by = \"Total\",ascending = False)\n",
    "\n",
    "plt.bar(total_mb[\"Country\"],total_mb[\"Total\"])"
   ]
  },
  {
   "cell_type": "code",
   "execution_count": 104,
   "metadata": {},
   "outputs": [
    {
     "data": {
      "text/html": [
       "<div>\n",
       "<style scoped>\n",
       "    .dataframe tbody tr th:only-of-type {\n",
       "        vertical-align: middle;\n",
       "    }\n",
       "\n",
       "    .dataframe tbody tr th {\n",
       "        vertical-align: top;\n",
       "    }\n",
       "\n",
       "    .dataframe thead th {\n",
       "        text-align: right;\n",
       "    }\n",
       "</style>\n",
       "<table border=\"1\" class=\"dataframe\">\n",
       "  <thead>\n",
       "    <tr style=\"text-align: right;\">\n",
       "      <th></th>\n",
       "      <th>Country</th>\n",
       "      <th>Total</th>\n",
       "    </tr>\n",
       "  </thead>\n",
       "  <tbody>\n",
       "    <tr>\n",
       "      <th>29</th>\n",
       "      <td>NOR</td>\n",
       "      <td>84</td>\n",
       "    </tr>\n",
       "    <tr>\n",
       "      <th>1</th>\n",
       "      <td>AUT</td>\n",
       "      <td>70</td>\n",
       "    </tr>\n",
       "    <tr>\n",
       "      <th>41</th>\n",
       "      <td>URS</td>\n",
       "      <td>59</td>\n",
       "    </tr>\n",
       "    <tr>\n",
       "      <th>42</th>\n",
       "      <td>USA</td>\n",
       "      <td>58</td>\n",
       "    </tr>\n",
       "    <tr>\n",
       "      <th>14</th>\n",
       "      <td>FIN</td>\n",
       "      <td>52</td>\n",
       "    </tr>\n",
       "    <tr>\n",
       "      <th>38</th>\n",
       "      <td>SWE</td>\n",
       "      <td>44</td>\n",
       "    </tr>\n",
       "    <tr>\n",
       "      <th>36</th>\n",
       "      <td>SUI</td>\n",
       "      <td>43</td>\n",
       "    </tr>\n",
       "    <tr>\n",
       "      <th>5</th>\n",
       "      <td>CAN</td>\n",
       "      <td>43</td>\n",
       "    </tr>\n",
       "    <tr>\n",
       "      <th>19</th>\n",
       "      <td>GER</td>\n",
       "      <td>41</td>\n",
       "    </tr>\n",
       "    <tr>\n",
       "      <th>18</th>\n",
       "      <td>GDR</td>\n",
       "      <td>35</td>\n",
       "    </tr>\n",
       "  </tbody>\n",
       "</table>\n",
       "</div>"
      ],
      "text/plain": [
       "   Country  Total\n",
       "29     NOR     84\n",
       "1      AUT     70\n",
       "41     URS     59\n",
       "42     USA     58\n",
       "14     FIN     52\n",
       "38     SWE     44\n",
       "36     SUI     43\n",
       "5      CAN     43\n",
       "19     GER     41\n",
       "18     GDR     35"
      ]
     },
     "execution_count": 104,
     "metadata": {},
     "output_type": "execute_result"
    }
   ],
   "source": [
    "total_mb.head(10)"
   ]
  },
  {
   "cell_type": "code",
   "execution_count": 106,
   "metadata": {},
   "outputs": [
    {
     "data": {
      "text/plain": [
       "[42    USA\n",
       " 41    URS\n",
       " 19    GER\n",
       " 1     AUT\n",
       " 38    SWE\n",
       " 14    FIN\n",
       " 18    GDR\n",
       " 5     CAN\n",
       " 36    SUI\n",
       " Name: Country, dtype: object, 42    USA\n",
       " 1     AUT\n",
       " 19    GER\n",
       " 14    FIN\n",
       " 41    URS\n",
       " 5     CAN\n",
       " 36    SUI\n",
       " 18    GDR\n",
       " 21    ITA\n",
       " Name: Country, dtype: object, 1     AUT\n",
       " 41    URS\n",
       " 42    USA\n",
       " 14    FIN\n",
       " 38    SWE\n",
       " 36    SUI\n",
       " 5     CAN\n",
       " 19    GER\n",
       " 18    GDR\n",
       " Name: Country, dtype: object]"
      ]
     },
     "execution_count": 106,
     "metadata": {},
     "output_type": "execute_result"
    }
   ],
   "source": []
  },
  {
   "cell_type": "code",
   "execution_count": null,
   "metadata": {},
   "outputs": [],
   "source": []
  }
 ],
 "metadata": {
  "kernelspec": {
   "display_name": "Python 3",
   "language": "python",
   "name": "python3"
  },
  "language_info": {
   "codemirror_mode": {
    "name": "ipython",
    "version": 3
   },
   "file_extension": ".py",
   "mimetype": "text/x-python",
   "name": "python",
   "nbconvert_exporter": "python",
   "pygments_lexer": "ipython3",
   "version": "3.6.8"
  }
 },
 "nbformat": 4,
 "nbformat_minor": 2
}
